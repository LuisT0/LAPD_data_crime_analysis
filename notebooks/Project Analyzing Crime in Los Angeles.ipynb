{
 "cells": [
  {
   "cell_type": "markdown",
   "id": "31ab2131-3049-4d8d-b9dc-d195f72af27a",
   "metadata": {},
   "source": [
    "![Los Angeles skyline](la_skyline.jpg)\n",
    "\n",
    "Los Angeles, California 😎. The City of Angels. Tinseltown. The Entertainment Capital of the World! \n",
    "\n",
    "Known for its warm weather, palm trees, sprawling coastline, and Hollywood, along with producing some of the most iconic films and songs. However, as with any highly populated city, it isn't always glamorous and there can be a large volume of crime. That's where you can help!\n",
    "\n",
    "You have been asked to support the Los Angeles Police Department (LAPD) by analyzing crime data to identify patterns in criminal behavior. They plan to use your insights to allocate resources effectively to tackle various crimes in different areas.\n",
    "\n",
    "## The Data\n",
    "\n",
    "They have provided you with a single dataset to use. A summary and preview are provided below.\n",
    "\n",
    "It is a modified version of the original data, which is publicly available from Los Angeles Open Data.\n",
    "\n",
    "# crimes.csv\n",
    "\n",
    "| Column     | Description              |\n",
    "|------------|--------------------------|\n",
    "| `'DR_NO'` | Division of Records Number: Official file number made up of a 2-digit year, area ID, and 5 digits. |\n",
    "| `'Date Rptd'` | Date reported - MM/DD/YYYY. |\n",
    "| `'DATE OCC'` | Date of occurrence - MM/DD/YYYY. |\n",
    "| `'TIME OCC'` | In 24-hour military time. |\n",
    "| `'AREA NAME'` | The 21 Geographic Areas or Patrol Divisions are also given a name designation that references a landmark or the surrounding community that it is responsible for. For example, the 77th Street Division is located at the intersection of South Broadway and 77th Street, serving neighborhoods in South Los Angeles. |\n",
    "| `'Crm Cd Desc'` | Indicates the crime committed. |\n",
    "| `'Vict Age'` | Victim's age in years. |\n",
    "| `'Vict Sex'` | Victim's sex: `F`: Female, `M`: Male, `X`: Unknown. |\n",
    "| `'Vict Descent'` | Victim's descent:<ul><li>`A` - Other Asian</li><li>`B` - Black</li><li>`C` - Chinese</li><li>`D` - Cambodian</li><li>`F` - Filipino</li><li>`G` - Guamanian</li><li>`H` - Hispanic/Latin/Mexican</li><li>`I` - American Indian/Alaskan Native</li><li>`J` - Japanese</li><li>`K` - Korean</li><li>`L` - Laotian</li><li>`O` - Other</li><li>`P` - Pacific Islander</li><li>`S` - Samoan</li><li>`U` - Hawaiian</li><li>`V` - Vietnamese</li><li>`W` - White</li><li>`X` - Unknown</li><li>`Z` - Asian Indian</li> |\n",
    "| `'Weapon Desc'` | Description of the weapon used (if applicable). |\n",
    "| `'Status Desc'` | Crime status. |\n",
    "| `'LOCATION'` | Street address of the crime. |"
   ]
  },
  {
   "cell_type": "code",
   "execution_count": null,
   "id": "7c6c3c36-5c8b-4cce-8681-95292b8f0861",
   "metadata": {
    "executionCancelledAt": null,
    "executionTime": 314,
    "lastExecutedAt": 1743642306024,
    "lastExecutedByKernel": "7e81e2fe-dbf5-47bf-81f9-aaa6f8c0ca29",
    "lastScheduledRunId": null,
    "lastSuccessfullyExecutedCode": "# Re-run this cell\n# Import required libraries\nimport pandas as pd\nimport numpy as np\nimport matplotlib.pyplot as plt\nimport seaborn as sns\ncrimes = pd.read_csv(\"crimes.csv\", dtype={\"TIME OCC\": str})\ncrimes.head()",
    "outputsMetadata": {
     "0": {
      "height": 550,
      "tableState": {
       "customFilter": {
        "const": {
         "type": "boolean",
         "valid": true,
         "value": true
        },
        "id": "b7f3c853-1566-43b1-84c6-394e7195a776",
        "nodeType": "const"
       },
       "quickFilterText": ""
      },
      "type": "dataFrame"
     }
    }
   },
   "outputs": [
    {
     "data": {
      "text/html": [
       "<div>\n",
       "<style scoped>\n",
       "    .dataframe tbody tr th:only-of-type {\n",
       "        vertical-align: middle;\n",
       "    }\n",
       "\n",
       "    .dataframe tbody tr th {\n",
       "        vertical-align: top;\n",
       "    }\n",
       "\n",
       "    .dataframe thead th {\n",
       "        text-align: right;\n",
       "    }\n",
       "</style>\n",
       "<table border=\"1\" class=\"dataframe\">\n",
       "  <thead>\n",
       "    <tr style=\"text-align: right;\">\n",
       "      <th></th>\n",
       "      <th>DR_NO</th>\n",
       "      <th>Date Rptd</th>\n",
       "      <th>DATE OCC</th>\n",
       "      <th>TIME OCC</th>\n",
       "      <th>AREA NAME</th>\n",
       "      <th>Crm Cd Desc</th>\n",
       "      <th>Vict Age</th>\n",
       "      <th>Vict Sex</th>\n",
       "      <th>Vict Descent</th>\n",
       "      <th>Weapon Desc</th>\n",
       "      <th>Status Desc</th>\n",
       "      <th>LOCATION</th>\n",
       "    </tr>\n",
       "  </thead>\n",
       "  <tbody>\n",
       "    <tr>\n",
       "      <th>0</th>\n",
       "      <td>220314085</td>\n",
       "      <td>2022-07-22</td>\n",
       "      <td>2020-05-12</td>\n",
       "      <td>1110</td>\n",
       "      <td>Southwest</td>\n",
       "      <td>THEFT OF IDENTITY</td>\n",
       "      <td>27</td>\n",
       "      <td>F</td>\n",
       "      <td>B</td>\n",
       "      <td>NaN</td>\n",
       "      <td>Invest Cont</td>\n",
       "      <td>2500 S  SYCAMORE                     AV</td>\n",
       "    </tr>\n",
       "    <tr>\n",
       "      <th>1</th>\n",
       "      <td>222013040</td>\n",
       "      <td>2022-08-06</td>\n",
       "      <td>2020-06-04</td>\n",
       "      <td>1620</td>\n",
       "      <td>Olympic</td>\n",
       "      <td>THEFT OF IDENTITY</td>\n",
       "      <td>60</td>\n",
       "      <td>M</td>\n",
       "      <td>H</td>\n",
       "      <td>NaN</td>\n",
       "      <td>Invest Cont</td>\n",
       "      <td>3300    SAN MARINO                   ST</td>\n",
       "    </tr>\n",
       "    <tr>\n",
       "      <th>2</th>\n",
       "      <td>220614831</td>\n",
       "      <td>2022-08-18</td>\n",
       "      <td>2020-08-17</td>\n",
       "      <td>1200</td>\n",
       "      <td>Hollywood</td>\n",
       "      <td>THEFT OF IDENTITY</td>\n",
       "      <td>28</td>\n",
       "      <td>M</td>\n",
       "      <td>H</td>\n",
       "      <td>NaN</td>\n",
       "      <td>Invest Cont</td>\n",
       "      <td>1900    TRANSIENT</td>\n",
       "    </tr>\n",
       "    <tr>\n",
       "      <th>3</th>\n",
       "      <td>231207725</td>\n",
       "      <td>2023-02-27</td>\n",
       "      <td>2020-01-27</td>\n",
       "      <td>0635</td>\n",
       "      <td>77th Street</td>\n",
       "      <td>THEFT OF IDENTITY</td>\n",
       "      <td>37</td>\n",
       "      <td>M</td>\n",
       "      <td>H</td>\n",
       "      <td>NaN</td>\n",
       "      <td>Invest Cont</td>\n",
       "      <td>6200    4TH                          AV</td>\n",
       "    </tr>\n",
       "    <tr>\n",
       "      <th>4</th>\n",
       "      <td>220213256</td>\n",
       "      <td>2022-07-14</td>\n",
       "      <td>2020-07-14</td>\n",
       "      <td>0900</td>\n",
       "      <td>Rampart</td>\n",
       "      <td>THEFT OF IDENTITY</td>\n",
       "      <td>79</td>\n",
       "      <td>M</td>\n",
       "      <td>B</td>\n",
       "      <td>NaN</td>\n",
       "      <td>Invest Cont</td>\n",
       "      <td>1200 W  7TH                          ST</td>\n",
       "    </tr>\n",
       "  </tbody>\n",
       "</table>\n",
       "</div>"
      ],
      "text/plain": [
       "       DR_NO   Date Rptd    DATE OCC TIME OCC    AREA NAME        Crm Cd Desc  \\\n",
       "0  220314085  2022-07-22  2020-05-12     1110    Southwest  THEFT OF IDENTITY   \n",
       "1  222013040  2022-08-06  2020-06-04     1620      Olympic  THEFT OF IDENTITY   \n",
       "2  220614831  2022-08-18  2020-08-17     1200    Hollywood  THEFT OF IDENTITY   \n",
       "3  231207725  2023-02-27  2020-01-27     0635  77th Street  THEFT OF IDENTITY   \n",
       "4  220213256  2022-07-14  2020-07-14     0900      Rampart  THEFT OF IDENTITY   \n",
       "\n",
       "   Vict Age Vict Sex Vict Descent Weapon Desc  Status Desc  \\\n",
       "0        27        F            B         NaN  Invest Cont   \n",
       "1        60        M            H         NaN  Invest Cont   \n",
       "2        28        M            H         NaN  Invest Cont   \n",
       "3        37        M            H         NaN  Invest Cont   \n",
       "4        79        M            B         NaN  Invest Cont   \n",
       "\n",
       "                                  LOCATION  \n",
       "0  2500 S  SYCAMORE                     AV  \n",
       "1  3300    SAN MARINO                   ST  \n",
       "2                        1900    TRANSIENT  \n",
       "3  6200    4TH                          AV  \n",
       "4  1200 W  7TH                          ST  "
      ]
     },
     "execution_count": 2,
     "metadata": {},
     "output_type": "execute_result"
    }
   ],
   "source": [
    "\n",
    "#import required libraries\n",
    "import pandas as pd\n",
    "import numpy as np\n",
    "import matplotlib.pyplot as plt\n",
    "import seaborn as sns\n",
    "crimes = pd.read_csv(\"crimes.csv\", dtype={\"TIME OCC\": str})\n",
    "crimes.head()"
   ]
  },
  {
   "cell_type": "code",
   "execution_count": 3,
   "id": "53eada96-447c-46c3-9848-f4ca3de53d06",
   "metadata": {
    "executionCancelledAt": null,
    "executionTime": 222,
    "lastExecutedAt": 1743642306246,
    "lastExecutedByKernel": "7e81e2fe-dbf5-47bf-81f9-aaa6f8c0ca29",
    "lastScheduledRunId": null,
    "lastSuccessfullyExecutedCode": "#showing dataset info\n\ncrimes.info()",
    "outputsMetadata": {
     "0": {
      "height": 416,
      "type": "stream"
     }
    }
   },
   "outputs": [
    {
     "name": "stdout",
     "output_type": "stream",
     "text": [
      "<class 'pandas.core.frame.DataFrame'>\n",
      "RangeIndex: 185715 entries, 0 to 185714\n",
      "Data columns (total 12 columns):\n",
      " #   Column        Non-Null Count   Dtype \n",
      "---  ------        --------------   ----- \n",
      " 0   DR_NO         185715 non-null  int64 \n",
      " 1   Date Rptd     185715 non-null  object\n",
      " 2   DATE OCC      185715 non-null  object\n",
      " 3   TIME OCC      185715 non-null  object\n",
      " 4   AREA NAME     185715 non-null  object\n",
      " 5   Crm Cd Desc   185715 non-null  object\n",
      " 6   Vict Age      185715 non-null  int64 \n",
      " 7   Vict Sex      185704 non-null  object\n",
      " 8   Vict Descent  185705 non-null  object\n",
      " 9   Weapon Desc   73502 non-null   object\n",
      " 10  Status Desc   185715 non-null  object\n",
      " 11  LOCATION      185715 non-null  object\n",
      "dtypes: int64(2), object(10)\n",
      "memory usage: 17.0+ MB\n"
     ]
    }
   ],
   "source": [
    "#showing dataset info\n",
    "\n",
    "crimes.info()"
   ]
  },
  {
   "cell_type": "code",
   "execution_count": 4,
   "id": "176dd033-4e60-49a8-bef8-b18b1724045f",
   "metadata": {
    "executionCancelledAt": null,
    "executionTime": 64,
    "lastExecutedAt": 1743642306310,
    "lastExecutedByKernel": "7e81e2fe-dbf5-47bf-81f9-aaa6f8c0ca29",
    "lastScheduledRunId": null,
    "lastSuccessfullyExecutedCode": "#extracting the hours and changing them into int\n\ncrimes['HOUR OCC'] = crimes['TIME OCC'].str[:2].astype(int)"
   },
   "outputs": [],
   "source": [
    "#extracting the hours and changing them into int\n",
    "\n",
    "crimes['HOUR OCC'] = crimes['TIME OCC'].str[:2].astype(int)"
   ]
  },
  {
   "cell_type": "code",
   "execution_count": 5,
   "id": "4c1d3cda-cf0c-4311-94e0-ce4faba512ea",
   "metadata": {
    "executionCancelledAt": null,
    "executionTime": 731,
    "lastExecutedAt": 1743642307042,
    "lastExecutedByKernel": "7e81e2fe-dbf5-47bf-81f9-aaa6f8c0ca29",
    "lastScheduledRunId": null,
    "lastSuccessfullyExecutedCode": "#plotting the frequencies\n\nsns.countplot(data=crimes, x='HOUR OCC', hue='HOUR OCC', width=1.5)\n\npeak_crime_hour = 12",
    "outputsMetadata": {
     "0": {
      "height": 500,
      "tableState": {},
      "type": "dataFrame"
     }
    }
   },
   "outputs": [
    {
     "data": {
      "image/png": "[encoded data removed]",
      "text/plain": [
       "<Figure size 640x480 with 1 Axes>"
      ]
     },
     "metadata": {},
     "output_type": "display_data"
    }
   ],
   "source": [
    "#plotting the frequencies\n",
    "\n",
    "sns.countplot(data=crimes, x='HOUR OCC', hue='HOUR OCC', width=1.5)\n",
    "\n",
    "peak_crime_hour = 12"
   ]
  },
  {
   "cell_type": "code",
   "execution_count": 7,
   "id": "b58d7012-12bb-4deb-9e3f-c343e479c458",
   "metadata": {
    "executionCancelledAt": null,
    "executionTime": 53,
    "lastExecutedAt": 1743642307095,
    "lastExecutedByKernel": "7e81e2fe-dbf5-47bf-81f9-aaa6f8c0ca29",
    "lastScheduledRunId": null,
    "lastSuccessfullyExecutedCode": "#subsetting for night hours\n\nnight_hours = crimes[crimes[\"HOUR OCC\"].isin([22,23,0,1,2,3])]\n\n#counting crime by area\n\npeak_night_crime_location = night_time.groupby(\"AREA NAME\", as_index=False)[\"HOUR OCC\"].count().sort_values(\"HOUR OCC\", ascending=False).iloc[0][\"AREA NAME\"]\n\n# Print the peak night crime location\nprint(f\"The area with the largest volume of night crime is {peak_night_crime_location}\")",
    "outputsMetadata": {
     "0": {
      "height": 38,
      "type": "stream"
     }
    }
   },
   "outputs": [
    {
     "name": "stdout",
     "output_type": "stream",
     "text": [
      "The area with the largest volume of night crime is Central\n"
     ]
    }
   ],
   "source": [
    "#subsetting for night hours\n",
    "\n",
    "night_hours = crimes[crimes[\"HOUR OCC\"].isin([22,23,0,1,2,3])]\n",
    "\n",
    "#counting crime by area\n",
    "\n",
    "peak_night_crime_location = night_hours.groupby(\"AREA NAME\", as_index=False)[\"HOUR OCC\"].count().sort_values(\"HOUR OCC\", ascending=False).iloc[0][\"AREA NAME\"]\n",
    "\n",
    "# Print the peak night crime location\n",
    "print(f\"The area with the largest volume of night crime is {peak_night_crime_location}\")"
   ]
  },
  {
   "cell_type": "code",
   "execution_count": 8,
   "id": "4493f2d3-bbd5-4664-95e4-147cfdf5c41c",
   "metadata": {
    "executionCancelledAt": null,
    "executionTime": 48,
    "lastExecutedAt": 1743642307143,
    "lastExecutedByKernel": "7e81e2fe-dbf5-47bf-81f9-aaa6f8c0ca29",
    "lastScheduledRunId": null,
    "lastSuccessfullyExecutedCode": "#creating bins and labels for victim age groups\n\nage_bins = [0, 17, 25, 34, 44, 54, 64, np.inf]\nage_labels = [\"0-17\", \"18-25\", \"26-34\", \"35-44\", \"45-54\", \"55-64\", \"65+\"]\n\n# Add a new column using pd.cut() to bin values into discrete intervals\n\ncrimes['Age Bracket'] = pd.cut(crimes['Vict Age'],\n                               bins=age_bins,\n                               labels=age_labels)\n\n#Finding the category with the largest frequency\n\nvictim_ages = crimes['Age Bracket'].value_counts()\nprint(victim_ages)",
    "outputsMetadata": {
     "0": {
      "height": 185,
      "type": "stream"
     }
    }
   },
   "outputs": [
    {
     "name": "stdout",
     "output_type": "stream",
     "text": [
      "Age Bracket\n",
      "26-34    47470\n",
      "35-44    42157\n",
      "45-54    28353\n",
      "18-25    28291\n",
      "55-64    20169\n",
      "65+      14747\n",
      "0-17      4528\n",
      "Name: count, dtype: int64\n"
     ]
    }
   ],
   "source": [
    "#creating bins and labels for victim age groups\n",
    "\n",
    "age_bins = [0, 17, 25, 34, 44, 54, 64, np.inf]\n",
    "age_labels = [\"0-17\", \"18-25\", \"26-34\", \"35-44\", \"45-54\", \"55-64\", \"65+\"]\n",
    "\n",
    "# Add a new column using pd.cut() to bin values into discrete intervals\n",
    "\n",
    "crimes['Age Bracket'] = pd.cut(crimes['Vict Age'],\n",
    "                               bins=age_bins,\n",
    "                               labels=age_labels)\n",
    "\n",
    "#Finding the category with the largest frequency\n",
    "\n",
    "victim_ages = crimes['Age Bracket'].value_counts()\n",
    "print(victim_ages)"
   ]
  },
  {
   "cell_type": "code",
   "execution_count": null,
   "id": "7ac5ed5f",
   "metadata": {},
   "outputs": [],
   "source": []
  }
 ],
 "metadata": {
  "colab": {
   "name": "Welcome to DataCamp Workspaces.ipynb",
   "provenance": []
  },
  "kernelspec": {
   "display_name": "base",
   "language": "python",
   "name": "python3"
  },
  "language_info": {
   "codemirror_mode": {
    "name": "ipython",
    "version": 3
   },
   "file_extension": ".py",
   "mimetype": "text/x-python",
   "name": "python",
   "nbconvert_exporter": "python",
   "pygments_lexer": "ipython3",
   "version": "3.12.7"
  }
 },
 "nbformat": 4,
 "nbformat_minor": 5
}
